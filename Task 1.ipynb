{
 "cells": [
  {
   "cell_type": "code",
   "execution_count": 1,
   "metadata": {},
   "outputs": [],
   "source": [
    "# OS Manipulation\n",
    "import glob\n",
    "import os\n",
    "\n",
    "# Data Wrangling\n",
    "import pandas as pd"
   ]
  },
  {
   "cell_type": "code",
   "execution_count": 4,
   "metadata": {},
   "outputs": [],
   "source": [
    "# Establish root dir wher files resides\n",
    "root_dir = put root directory here\n",
    "\n",
    "# Get all file Diretiories \n",
    "directiories = []\n",
    "for i in range(0,9):\n",
    "    directiories.append(root_dir  + f'\\\\{i}')\n",
    "\n",
    "# Extract all file names directories \n",
    "files = []\n",
    "for dir_name in directiories:\n",
    "    files = files + glob.glob(os.path.join(dir_name, \"*.csv\"))"
   ]
  },
  {
   "cell_type": "code",
   "execution_count": null,
   "metadata": {},
   "outputs": [],
   "source": [
    "def data_collect(directory):\n",
    "    \n",
    "    return pd.read_csv(directory, parse_dates= [0]).resample('10T', on = 'timestamp').agg('median').reset_index()\n",
    "    \n",
    "\n",
    "def joinall(files):\n",
    "    ct = 0\n",
    "    \n",
    "    for dir_ in files:\n",
    "        \n",
    "        if ct == 0 :\n",
    "            df = data_collect(dir_)    \n",
    "        else:\n",
    "            df = pd.concat([df,data_collect(dir_)], axis = 0)\n",
    "            \n",
    "        ct+= 1\n",
    "        \n",
    "    return df"
   ]
  },
  {
   "cell_type": "code",
   "execution_count": null,
   "metadata": {},
   "outputs": [],
   "source": [
    "df = joinall(files)"
   ]
  },
  {
   "cell_type": "code",
   "execution_count": null,
   "metadata": {},
   "outputs": [],
   "source": [
    "def data_collect (directory):   \n",
    "    #get all File names \n",
    "    files = glob.glob(os.path.join(directory, \"*.csv\"))\n",
    "    \n",
    "    return pd.concat(map(pd.read_csv, files), ignore_index=True)\n",
    "   \n",
    "    \n",
    "def joinall(directiories):\n",
    "    ct = 0\n",
    "    \n",
    "    for item in directiories:\n",
    "        \n",
    "        if ct == 0 :\n",
    "            df = data_collect(item)    \n",
    "        else:\n",
    "            df = pd.concat([df,data_collect(item)], axis = 0 )\n",
    "            \n",
    "        ct+= 1\n",
    "        \n",
    "    return df \n",
    "               \n",
    "df = joinall(directiories)\n",
    "df.to_csv('combined.csv')"
   ]
  },
  {
   "cell_type": "code",
   "execution_count": 7,
   "metadata": {},
   "outputs": [
    {
     "data": {
      "text/plain": [
       "'C:\\\\Users\\\\Owner\\\\Desktop\\\\IT\\\\Group project - W3\\\\3W\\\\0\\\\WELL-00001_20170201020207.csv'"
      ]
     },
     "execution_count": 7,
     "metadata": {},
     "output_type": "execute_result"
    }
   ],
   "source": [
    "files[0]"
   ]
  },
  {
   "cell_type": "code",
   "execution_count": null,
   "metadata": {},
   "outputs": [],
   "source": []
  }
 ],
 "metadata": {
  "kernelspec": {
   "display_name": "Python 3.9.7 ('base')",
   "language": "python",
   "name": "python3"
  },
  "language_info": {
   "codemirror_mode": {
    "name": "ipython",
    "version": 3
   },
   "file_extension": ".py",
   "mimetype": "text/x-python",
   "name": "python",
   "nbconvert_exporter": "python",
   "pygments_lexer": "ipython3",
   "version": "3.9.7"
  },
  "orig_nbformat": 4,
  "vscode": {
   "interpreter": {
    "hash": "585a938ec471c889bf0cce0aed741a99eaf47ca09c0fa8393793bc5bfe77ba11"
   }
  }
 },
 "nbformat": 4,
 "nbformat_minor": 2
}
